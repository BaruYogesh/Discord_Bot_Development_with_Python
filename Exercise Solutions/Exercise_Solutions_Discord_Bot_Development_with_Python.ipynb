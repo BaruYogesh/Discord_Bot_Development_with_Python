{
  "nbformat": 4,
  "nbformat_minor": 0,
  "metadata": {
    "colab": {
      "name": "Exercise Solutions - Discord Bot Development with Python.ipynb",
      "provenance": []
    },
    "kernelspec": {
      "name": "python3",
      "display_name": "Python 3"
    },
    "language_info": {
      "name": "python"
    }
  },
  "cells": [
    {
      "cell_type": "markdown",
      "source": [
        "# Exercise #1\n",
        "\n",
        "```python \n",
        "await message.channel.send(f\"Hello, <@{message.author.id}>!\")\n",
        "\n",
        "```"
      ],
      "metadata": {
        "id": "qmceCWFEAiM8"
      }
    },
    {
      "cell_type": "markdown",
      "source": [
        "# Exercise #2\n",
        "\n",
        "```python \n",
        "available_commands = [\"help\",\"ping\",\"hello\"]\n",
        "await message.author.send(\"List of available commands: \")\n",
        "for command in available_commands:\n",
        "  await message.author.send(f\"- {command}\");\n",
        "```"
      ],
      "metadata": {
        "id": "Lbr9HHJNAsXK"
      }
    },
    {
      "cell_type": "markdown",
      "source": [
        "#Exercise #3 (challenge)\n",
        "\n",
        "```python \n",
        "for string in [\"Good bot\", \"good bot\"]:\n",
        "  if string in message.content:\n",
        "    await message.add_reaction('💖')\n",
        "    break\n",
        "```"
      ],
      "metadata": {
        "id": "lrs9cwfADbAa"
      }
    }
  ]
}